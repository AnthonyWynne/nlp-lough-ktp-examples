{
 "cells": [
  {
   "cell_type": "code",
   "execution_count": 1,
   "metadata": {},
   "outputs": [
    {
     "name": "stdout",
     "output_type": "stream",
     "text": [
      "The first 5 of 101 ['./data\\\\1878_vfa_season.txt', './data\\\\195556_scottish_cup.txt', './data\\\\2008_new_york_yankees_season.txt', './data\\\\6th_south_african_armoured_division.txt', './data\\\\alan_taylor_historian.txt']\n"
     ]
    },
    {
     "name": "stderr",
     "output_type": "stream",
     "text": [
      "[nltk_data] Downloading package stopwords to\n",
      "[nltk_data]     C:\\Users\\AnthonyWynne\\AppData\\Roaming\\nltk_data...\n",
      "[nltk_data]   Package stopwords is already up-to-date!\n"
     ]
    }
   ],
   "source": [
    "# import random\n",
    "# import nltk\n",
    "import glob\n",
    "import numpy as np\n",
    "import matplotlib.pyplot as plt\n",
    "from sklearn.decomposition import TruncatedSVD\n",
    "from sklearn.metrics.pairwise import cosine_similarity\n",
    "#from string import punctuation\n",
    "#from nltk.corpus import stopwords\n",
    "#from nltk.stem.porter import PorterStemmer\n",
    "#from sklearn.feature_extraction.text import CountVectorizer, TfidfTransformer\n",
    "import lsi_main as lsi\n"
   ]
  },
  {
   "cell_type": "code",
   "execution_count": 2,
   "metadata": {},
   "outputs": [
    {
     "name": "stdout",
     "output_type": "stream",
     "text": [
      "The first 5 of 101 ['./data\\\\1878_vfa_season.txt', './data\\\\195556_scottish_cup.txt', './data\\\\2008_new_york_yankees_season.txt', './data\\\\6th_south_african_armoured_division.txt', './data\\\\alan_taylor_historian.txt']\n"
     ]
    }
   ],
   "source": [
    "data_path = \"./data/\"\n",
    "files = glob.glob(f\"{data_path}*.txt\")\n",
    "assert files, \"No files found in data folder\"\n",
    "print(f\"The first 5 of {len(files)}\", files[:5])\n"
   ]
  },
  {
   "cell_type": "code",
   "execution_count": 4,
   "metadata": {},
   "outputs": [
    {
     "name": "stdout",
     "output_type": "stream",
     "text": [
      "First 5 lines of first file: The 1878 Victorian Football Association season was the second season of the Australian rules football competition. The premiership was won by the Geelong Football Club, after it defeated Melbourne in a playoff match on 5 October. It was the club's first VFA premiership, and the first in a sequence of three consecutive premierships won from 1878 to 1880. Geelong was unbeaten during the year.\n"
     ]
    }
   ],
   "source": [
    "train_lines = [lsi.load_doc_lines(file)[0] for file in files]\n",
    "print(f\"First line of first file: {train_lines[0]}\")"
   ]
  },
  {
   "cell_type": "code",
   "execution_count": 5,
   "metadata": {},
   "outputs": [
    {
     "name": "stdout",
     "output_type": "stream",
     "text": [
      "First lines  after processing: victorian footbal associ season wa second season australian rule footbal competition premiership wa geelong footbal club defeat melbourn playoff match october wa club first vfa premiership first sequenc three consecut premiership geelong wa unbeaten dure year\n"
     ]
    }
   ],
   "source": [
    "train_docs = lsi.process_docs(train_lines)\n",
    "print(f\"First lines  after processing: {train_docs[0]}\")"
   ]
  },
  {
   "cell_type": "code",
   "execution_count": 6,
   "metadata": {},
   "outputs": [
    {
     "data": {
      "text/plain": [
       "['victorian',\n",
       " 'footbal',\n",
       " 'associ',\n",
       " 'season',\n",
       " 'wa',\n",
       " 'second',\n",
       " 'australian',\n",
       " 'rule',\n",
       " 'competition',\n",
       " 'premiership']"
      ]
     },
     "execution_count": 6,
     "metadata": {},
     "output_type": "execute_result"
    }
   ],
   "source": [
    "vocab = []\n",
    "for ll in train_docs:\n",
    "    tt = ll.split()\n",
    "    for ww in tt:\n",
    "        if ww not in vocab:\n",
    "            vocab.append(ww)\n",
    "vocab[:10]"
   ]
  },
  {
   "cell_type": "code",
   "execution_count": 7,
   "metadata": {},
   "outputs": [
    {
     "data": {
      "text/plain": [
       "<10x1992 sparse matrix of type '<class 'numpy.float64'>'\n",
       "\twith 403 stored elements in Compressed Sparse Row format>"
      ]
     },
     "execution_count": 7,
     "metadata": {},
     "output_type": "execute_result"
    }
   ],
   "source": [
    "Xtrain = lsi.prepare_data(train_docs, vocab)\n",
    "Xtrain[:10]"
   ]
  },
  {
   "cell_type": "code",
   "execution_count": 8,
   "metadata": {},
   "outputs": [
    {
     "name": "stdout",
     "output_type": "stream",
     "text": [
      "Approximated Xtrain shape: (101, 25)\n"
     ]
    }
   ],
   "source": [
    "trunc_SVD_model = TruncatedSVD(n_components=25) # why 25? and not less?\n",
    "approx_Xtrain = trunc_SVD_model.fit_transform(Xtrain)\n",
    "print(f\"Approximated Xtrain shape: {str(approx_Xtrain.shape)}\")"
   ]
  },
  {
   "cell_type": "code",
   "execution_count": 9,
   "metadata": {},
   "outputs": [],
   "source": [
    "queries = ['The pen is good.', 'The pen is poor.']\n",
    "Top_n_reviews = 10\n"
   ]
  },
  {
   "cell_type": "code",
   "execution_count": 10,
   "metadata": {},
   "outputs": [
    {
     "name": "stdout",
     "output_type": "stream",
     "text": [
      "\n",
      "Query: The pen is good.\n",
      "Top 1 result:\n",
      "Reviews ID: 100\n",
      "Zolochiv (Ukrainian: Золочів, Polish: Złoczów, German: Solotschiw, Yiddish: זלאָטשאָוו, Zlotshov) is a small city of district significance in Lviv Oblast of Ukraine, the administrative center of Zolochiv Raion. It hosts the administration of Zolochiv urban hromada, one of the hromadas of Ukraine. The city is located 60 kilometers east of Lviv along Highway H02 Lviv-Ternopil and the railway line Krasne-Ternopil. Its population is approximately 23,986 (2021 est.), covering an area of 1,164 km2 (449 sq mi)\n",
      "Top 2 result:\n",
      "Reviews ID: 36\n",
      "François Roy (1896–1970) was a local politician in Shawinigan, Quebec. He was the 12th Mayor of Shawinigan, Quebec from 1946 to 1954.\n",
      "Top 3 result:\n",
      "Reviews ID: 26\n",
      "David Alan Lindstrom (born November 16, 1954) is a former American football defensive end in the National Football League, playing eight seasons (1978–1986) for the Kansas City Chiefs. Drafted by the San Diego Chargers in 1977, Lindstrom was inducted into both the Boston University Hall of Fame and Massachusetts High School Hall of Fame in 1993.\n",
      "Top 4 result:\n",
      "Reviews ID: 27\n",
      "Richard Grant (August 3, 1870 – January 9, 1958) was a Canadian track and field athlete who competed at the 1900 Summer Olympics in Paris, France for the United States. He also competed in the first four Boston Marathons, one of only two athletes (the other being Lawrence Bragnolia) to have done so.\n",
      "Top 5 result:\n",
      "Reviews ID: 28\n",
      "Dimensional Fund Advisors, L.P. (branded Dimensional abbreviated DFA) is a private investment firm headquartered in Austin, Texas. Dimensional was founded in Chicago in 1981 by David Booth, Rex Sinquefield and Larry Klotz. The company has affiliates within 13 offices in the U.S., Canada, U.K., Germany, Netherlands, Australia, Singapore, and Japan. Dimensional maintains U.S. offices in Charlotte, North Carolina and Santa Monica, California and has affiliate offices globally. The company is owned by its employees, board members and outside investors. \n",
      "Top 6 result:\n",
      "Reviews ID: 29\n",
      "Dobrinka Shokoladova (Bulgarian: Добринка Шоколадова) (born 1 May 1983) is a Bulgarian long-distance runner who specializes in the 3000 metres steeplechase.\n",
      "Top 7 result:\n",
      "Reviews ID: 30\n",
      "Douglas Alan Berry (born June 3, 1957) is a Canadian former professional ice hockey player, a centreman in the World Hockey Association (WHA) and the National Hockey League (NHL).\n",
      "Top 8 result:\n",
      "Reviews ID: 31\n",
      "Dág (German: Dachau) is a village in Komárom-Esztergom county, Hungary.\n",
      "Top 9 result:\n",
      "Reviews ID: 32\n",
      "Eliza Lynn Linton (10 February 1822 – 14 July 1898) was the first female salaried journalist in Britain and the author of over 20 novels. Despite her path-breaking role as an independent woman, many of her essays took a strong anti-feminist slant.\n",
      "Top 10 result:\n",
      "Reviews ID: 33\n",
      "Aadijatmiko Christina Finarsih (born 8 February 1972) is a retired badminton player from Indonesia who specialized in women's doubles.\n",
      "\n",
      "Query: The pen is poor.\n",
      "Top 1 result:\n",
      "Reviews ID: 51\n",
      "John R. Cash (born J. R. Cash; February 26, 1932 – September 12, 2003) was an American country singer-songwriter. Much of Cash's music contained themes of sorrow, moral tribulation, and redemption, especially in the later stages of his career. He was known for his deep, calm bass-baritone voice, the distinctive sound of his Tennessee Three backing band characterized by train-like chugging guitar rhythms, a rebelliousness coupled with an increasingly somber and humble demeanor, free prison concerts, and a trademark all-black stage wardrobe which earned him the nickname \"The Man in Black\".Born to poor cotton farmers in Kingsland, Arkansas, Cash rose to fame during the mid-1950s in the burgeoning rockabilly scene in Memphis, Tennessee, after four years in the Air Force. He traditionally began his concerts by simply introducing himself, \"Hello, I'm Johnny Cash\", followed by \"Folsom Prison Blues\", one of his signature songs. His other signature songs include \"I Walk the Line\", \"Ring of Fire\", \"Get Rhythm\", and \"Man in Black\". He also recorded humorous numbers like \"One Piece at a Time\" and \"A Boy Named Sue\", a duet with his future wife June called \"Jackson\" (followed by many further duets after their wedding), and railroad songs such as \"Hey, Porter\", \"Orange Blossom Special\", and \"Rock Island Line\". During the last stage of his career, he covered songs by contemporary rock artists; among his most notable covers were \"Hurt\" by Nine Inch Nails, \"Rusty Cage\" by Soundgarden, and \"Personal Jesus\" by Depeche Mode.\n",
      "Top 2 result:\n",
      "Reviews ID: 17\n",
      "Bruce Beresford-Redman (born April 20, 1971) is the co-creator and executive producer of MTV's Pimp My Ride and a former producer of Survivor. In 2015, he was convicted in Mexico of the murder of his wife, Mónica.\n",
      "Top 3 result:\n",
      "Reviews ID: 6\n",
      "Amy Ashwood Garvey (née Ashwood; 10 January 1897 – 3 May 1969) was a Jamaican Pan-Africanist activist. She was a director of the Black Star Line Steamship Corporation, and along with her former husband Marcus Garvey she founded the Negro World newspaper.\n",
      "Top 4 result:\n",
      "Reviews ID: 7\n",
      "Anita Bitri-Prapaniku (8 January 1968 – 19 October 2004) was a pop singer and violinist from Albania, popular in her native country. Bitri had her first music success at the age of sixteen, and she became popular in Albania with her song \"First Love\". She emigrated to the United States in 1996.She was found dead in her Staten Island home along with her 8-year-old daughter Sibora Nini and 60-year-old mother Azbije. The three died due to an accidental carbon monoxide poisoning after boiler ventilators in the basement were stuffed with plastic bags to keep out concrete from construction work. Her husband, Luan Prapaniku, had recently died from cancer.\n",
      "Top 5 result:\n",
      "Reviews ID: 37\n",
      "In Norse paganism, Freyja (Old Norse \"(the) Lady\") is a goddess associated with love, beauty, fertility, sex, war, gold, and seiðr (magic for seeing and influencing the future). Freyja is the owner of the necklace Brísingamen, rides a chariot pulled by two cats, is accompanied by the boar Hildisvíni, and possesses a cloak of falcon feathers. By her husband Óðr, she is the mother of two daughters, Hnoss and Gersemi. Along with her twin brother Freyr, her father Njörðr, and her mother (Njörðr's sister, unnamed in sources), she is a member of the Vanir. Stemming from Old Norse Freyja, modern forms of the name include Freya, Freyia, and Freja.\n",
      "Top 6 result:\n",
      "Reviews ID: 1\n",
      "The 1955–56 Scottish Cup was the 71st staging of Scotland's most prestigious football knockout competition. The Cup was won by Heart of Midlothian who defeated Celtic in the final. The final was a repeat of the 1907 final and was Hearts' first appearance in the final since that date.\n",
      "Top 7 result:\n",
      "Reviews ID: 18\n",
      "Bu Wancang (July 1, 1900 – December 30, 1973), also known by his English name Richard Poh, was a prolific Chinese film director and screenwriter active between the 1920s and the 1960s. He was born in Anhui.\n",
      "Top 8 result:\n",
      "Reviews ID: 100\n",
      "Zolochiv (Ukrainian: Золочів, Polish: Złoczów, German: Solotschiw, Yiddish: זלאָטשאָוו, Zlotshov) is a small city of district significance in Lviv Oblast of Ukraine, the administrative center of Zolochiv Raion. It hosts the administration of Zolochiv urban hromada, one of the hromadas of Ukraine. The city is located 60 kilometers east of Lviv along Highway H02 Lviv-Ternopil and the railway line Krasne-Ternopil. Its population is approximately 23,986 (2021 est.), covering an area of 1,164 km2 (449 sq mi)\n",
      "Top 9 result:\n",
      "Reviews ID: 97\n",
      "Vrátna dolina or Vrátna Valley is a valley in the Malá Fatra mountain range in Slovakia. It is situated 3 kilometers from the village of Terchová in the Žilina Region. Vrátna dolina covers an area of approximately 36 km2 (13,9 mi2). There are four access points into the valley: Tiesňavy, Stará dolina, Nová dolina, and Starý dvor.\n",
      "Top 10 result:\n",
      "Reviews ID: 33\n",
      "Aadijatmiko Christina Finarsih (born 8 February 1972) is a retired badminton player from Indonesia who specialized in women's doubles.\n"
     ]
    }
   ],
   "source": [
    "\n",
    "for query in queries:\n",
    "    encoded_query = lsi.preprocess_query(query, vocab)\n",
    "    transformed_query = trunc_SVD_model.transform(encoded_query)\n",
    "    similarities = cosine_similarity(approx_Xtrain, transformed_query)\n",
    "    indexes = np.argsort(similarities.flat)[::-1]\n",
    "\n",
    "    print('\\n' + 'Query: ' + query)\n",
    "    for i in range(Top_n_reviews):\n",
    "        print(f\"Top {str(i + 1)} result:\")\n",
    "        print(f\"Reviews ID: {str(indexes[i])}\")\n",
    "        print(train_lines[indexes[i]])\n"
   ]
  },
  {
   "cell_type": "code",
   "execution_count": 12,
   "metadata": {},
   "outputs": [
    {
     "name": "stdout",
     "output_type": "stream",
     "text": [
      "[0, 0, 0, 0, 0, 0, 0, 0, 0, 0, 0, 0, 0, 0, 0, 0, 0, 0, 0, 0, 0, 0, 0, 0, 0, 0, 0, 0, 0, 0, 0, 0, 0, 0, 0, 0, 0, 0, 0, 0, 0, 0, 0, 0, 0, 0, 0, 0, 0, 0, 0, 0, 0, 0, 0, 0, 0, 0, 0, 0, 0, 0, 0, 0, 0, 0, 0, 0, 0, 0, 0, 0, 0, 0, 0, 0, 0, 0, 0, 0, 0, 0, 0, 0, 0, 0, 0, 0, 0, 0, 0, 0, 0, 0, 0, 0, 0, 0, 0, 0, 0]\n"
     ]
    },
    {
     "ename": "IndexError",
     "evalue": "list index out of range",
     "output_type": "error",
     "traceback": [
      "\u001b[1;31m---------------------------------------------------------------------------\u001b[0m",
      "\u001b[1;31mIndexError\u001b[0m                                Traceback (most recent call last)",
      "\u001b[1;32mC:\\Users\\ANTHON~1\\AppData\\Local\\Temp/ipykernel_19252/1691801385.py\u001b[0m in \u001b[0;36m<module>\u001b[1;34m\u001b[0m\n\u001b[0;32m     16\u001b[0m     \u001b[0mre_mark\u001b[0m \u001b[1;33m=\u001b[0m \u001b[1;33m[\u001b[0m\u001b[1;33m]\u001b[0m\u001b[1;33m\u001b[0m\u001b[1;33m\u001b[0m\u001b[0m\n\u001b[0;32m     17\u001b[0m     \u001b[1;32mfor\u001b[0m \u001b[0mi\u001b[0m \u001b[1;32min\u001b[0m \u001b[0mrange\u001b[0m\u001b[1;33m(\u001b[0m\u001b[0mlen\u001b[0m\u001b[1;33m(\u001b[0m\u001b[0mindexes\u001b[0m\u001b[1;33m)\u001b[0m\u001b[1;33m)\u001b[0m\u001b[1;33m:\u001b[0m\u001b[1;33m\u001b[0m\u001b[1;33m\u001b[0m\u001b[0m\n\u001b[1;32m---> 18\u001b[1;33m         \u001b[1;32mif\u001b[0m \u001b[1;33m(\u001b[0m\u001b[0mindexes\u001b[0m\u001b[1;33m[\u001b[0m\u001b[0mi\u001b[0m\u001b[1;33m]\u001b[0m \u001b[1;33m+\u001b[0m \u001b[1;36m1\u001b[0m\u001b[1;33m)\u001b[0m \u001b[1;32min\u001b[0m \u001b[0mre_ID\u001b[0m\u001b[1;33m[\u001b[0m\u001b[0mj\u001b[0m\u001b[1;33m]\u001b[0m\u001b[1;33m:\u001b[0m\u001b[1;33m\u001b[0m\u001b[1;33m\u001b[0m\u001b[0m\n\u001b[0m\u001b[0;32m     19\u001b[0m             \u001b[0mre_mark\u001b[0m\u001b[1;33m.\u001b[0m\u001b[0mappend\u001b[0m\u001b[1;33m(\u001b[0m\u001b[1;36m1\u001b[0m\u001b[1;33m)\u001b[0m\u001b[1;33m\u001b[0m\u001b[1;33m\u001b[0m\u001b[0m\n\u001b[0;32m     20\u001b[0m         \u001b[1;32melse\u001b[0m\u001b[1;33m:\u001b[0m\u001b[1;33m\u001b[0m\u001b[1;33m\u001b[0m\u001b[0m\n",
      "\u001b[1;31mIndexError\u001b[0m: list index out of range"
     ]
    }
   ],
   "source": [
    "re_ID = [[]]\n",
    "AllRecall = []\n",
    "AllPrecision = []\n",
    "AllF1measure = []\n",
    "\n",
    "for j, query in enumerate(queries):\n",
    "    # retrieval\n",
    "    encoded_query = lsi.preprocess_query(query, vocab)\n",
    "    transformed_query = trunc_SVD_model.transform(encoded_query)\n",
    "    similarities = cosine_similarity(approx_Xtrain, transformed_query)\n",
    "\n",
    "    # rank the index\n",
    "    indexes = np.argsort(similarities.flat)[::-1]\n",
    "\n",
    "    # Mark the relevant index\n",
    "    re_mark = []\n",
    "    for i in range(len(indexes)):\n",
    "        if (indexes[i] + 1) in re_ID[j]:\n",
    "            re_mark.append(1)\n",
    "        else:\n",
    "            re_mark.append(0)\n",
    "    print(re_mark)\n",
    "\n",
    "    # # compute Recall, Precision, F1-measure\n",
    "    # Recall, Precision, F1measure = lsi.compute_R_P_F1(re_mark=re_mark,\n",
    "    #                                                 QuRe_ID=re_ID[j])\n",
    "\n",
    "    # print('\\n' + 'Query%d: ' % (j + 1) + query)\n",
    "    # for i in range(10):\n",
    "    #     print(\n",
    "    #         f\"Top {str(i + 1)}\" + ' result: ID%d ' % (indexes[i] + 1),\n",
    "    #         train_lines[indexes[i]],\n",
    "    #     )\n",
    "    # Recall = np.array(Recall)\n",
    "    # Precision = np.array(Precision)\n",
    "    # F1measure = np.array(F1measure)\n",
    "    # print(re_mark)\n",
    "    # print(\"Recall@1~10: \", np.around(Recall[:10], 2))\n",
    "    # print(\"Precision@1~10: \", np.around(Precision[:10], 2))\n",
    "    # print(\"F1measure@1~10: \", np.around(F1measure[:10], 2))\n",
    "\n",
    "    # # save\n",
    "    # AllRecall.append(Recall)\n",
    "    # AllPrecision.append(Precision)\n",
    "    # AllF1measure.append(F1measure)\n",
    "\n",
    "    # # plot R/P curve\n",
    "    # x_axis = [0.0, 0.1, 0.2, 0.3, 0.4, 0.5, 0.6, 0.7, 0.8, 0.9, 1.0]\n",
    "    # y_axis = lsi.compute_RP_yaxis(Precision=Precision, Recall=Recall)\n",
    "    # plt.plot(x_axis,\n",
    "    #             y_axis,\n",
    "    #             '-bo',\n",
    "    #             color=\"purple\",\n",
    "    #             label=\"Query%d\" % (j + 1))\n",
    "    # plt.xlim(0, 1)\n",
    "    # plt.ylim(0, 1)\n",
    "    # plt.xlabel('Recall')\n",
    "    # plt.ylabel('Precision')\n",
    "    # plt.title('Standard Recall/Precision Curves')\n",
    "    # plt.legend()\n",
    "    # plt.show()\n"
   ]
  },
  {
   "cell_type": "code",
   "execution_count": null,
   "metadata": {},
   "outputs": [],
   "source": [
    "\n",
    "# compute average Recall, average Precision, average F1-measure\n",
    "AllRecall = np.array(AllRecall)\n",
    "AllPrecision = np.array(AllPrecision)\n",
    "AllF1measure = np.array(AllF1measure)\n",
    "AveRecall = (AllRecall[0] + AllRecall[1]) / 2\n",
    "AvePrecision = (AllPrecision[0] + AllPrecision[1]) / 2\n",
    "AveF1measure = (AllF1measure[0] + AllF1measure[1]) / 2\n",
    "\n",
    "print(\"\\nAverage Recall, average Precision, average F1-measure: \")\n",
    "print(\"average Recall@1~10: \", np.around(AveRecall[:10], 2))\n",
    "print(\"average Precision@1~10: \", np.around(AvePrecision[:10], 2))\n",
    "print(\"average F1measure@1~10: \", np.around(AveF1measure[:10], 2))\n",
    "\n",
    "# plot average R/P curve\n",
    "x_axis = [0.0, 0.1, 0.2, 0.3, 0.4, 0.5, 0.6, 0.7, 0.8, 0.9, 1.0]\n",
    "y_axis = lsi.compute_RP_yaxis(Precision=AvePrecision, Recall=AveRecall)\n",
    "plt.plot(x_axis, y_axis, '-bo', color=\"blue\", label=\"Average\")\n",
    "plt.xlim(0, 1)\n",
    "plt.ylim(0, 1)\n",
    "plt.xlabel('average Recall')\n",
    "plt.ylabel('average Precision')\n",
    "plt.title('Standard Average Recall/Precision Curves')\n",
    "plt.legend()\n",
    "plt.show()\n"
   ]
  }
 ],
 "metadata": {
  "kernelspec": {
   "display_name": "lough-ktp",
   "language": "python",
   "name": "python3"
  },
  "language_info": {
   "codemirror_mode": {
    "name": "ipython",
    "version": 3
   },
   "file_extension": ".py",
   "mimetype": "text/x-python",
   "name": "python",
   "nbconvert_exporter": "python",
   "pygments_lexer": "ipython3",
   "version": "3.9.7"
  },
  "orig_nbformat": 4
 },
 "nbformat": 4,
 "nbformat_minor": 2
}
