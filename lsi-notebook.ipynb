{
 "cells": [
  {
   "cell_type": "code",
   "execution_count": 1,
   "metadata": {},
   "outputs": [
    {
     "name": "stdout",
     "output_type": "stream",
     "text": [
      "The first 5 of 101 ['./data\\\\1878_vfa_season.txt', './data\\\\195556_scottish_cup.txt', './data\\\\2008_new_york_yankees_season.txt', './data\\\\6th_south_african_armoured_division.txt', './data\\\\alan_taylor_historian.txt']\n"
     ]
    },
    {
     "name": "stderr",
     "output_type": "stream",
     "text": [
      "[nltk_data] Downloading package stopwords to\n",
      "[nltk_data]     C:\\Users\\AnthonyWynne\\AppData\\Roaming\\nltk_data...\n",
      "[nltk_data]   Package stopwords is already up-to-date!\n"
     ]
    }
   ],
   "source": [
    "# import random\n",
    "# import nltk\n",
    "import glob\n",
    "import numpy as np\n",
    "import matplotlib.pyplot as plt\n",
    "from sklearn.decomposition import TruncatedSVD\n",
    "from sklearn.metrics.pairwise import cosine_similarity\n",
    "#from string import punctuation\n",
    "#from nltk.corpus import stopwords\n",
    "#from nltk.stem.porter import PorterStemmer\n",
    "#from sklearn.feature_extraction.text import CountVectorizer, TfidfTransformer\n",
    "import lsi_main as lsi\n"
   ]
  },
  {
   "cell_type": "code",
   "execution_count": 2,
   "metadata": {},
   "outputs": [
    {
     "name": "stdout",
     "output_type": "stream",
     "text": [
      "The first 5 of 101 ['./data\\\\1878_vfa_season.txt', './data\\\\195556_scottish_cup.txt', './data\\\\2008_new_york_yankees_season.txt', './data\\\\6th_south_african_armoured_division.txt', './data\\\\alan_taylor_historian.txt']\n"
     ]
    }
   ],
   "source": [
    "data_path = \"./data/\"\n",
    "files = glob.glob(f\"{data_path}*.txt\")\n",
    "assert files, \"No files found in data folder\"\n",
    "print(f\"The first 5 of {len(files)}\", files[:5])\n",
    "# TODO load a web based dataset instead of local files"
   ]
  },
  {
   "cell_type": "code",
   "execution_count": 4,
   "metadata": {},
   "outputs": [
    {
     "name": "stdout",
     "output_type": "stream",
     "text": [
      "First 5 lines of first file: The 1878 Victorian Football Association season was the second season of the Australian rules football competition. The premiership was won by the Geelong Football Club, after it defeated Melbourne in a playoff match on 5 October. It was the club's first VFA premiership, and the first in a sequence of three consecutive premierships won from 1878 to 1880. Geelong was unbeaten during the year.\n"
     ]
    }
   ],
   "source": [
    "train_lines = [lsi.load_doc_lines(file)[0] for file in files]\n",
    "print(f\"First line of first file: {train_lines[0]}\")"
   ]
  },
  {
   "cell_type": "code",
   "execution_count": 5,
   "metadata": {},
   "outputs": [
    {
     "name": "stdout",
     "output_type": "stream",
     "text": [
      "First lines  after processing: victorian footbal associ season wa second season australian rule footbal competition premiership wa geelong footbal club defeat melbourn playoff match october wa club first vfa premiership first sequenc three consecut premiership geelong wa unbeaten dure year\n"
     ]
    }
   ],
   "source": [
    "train_docs = lsi.process_docs(train_lines)\n",
    "print(f\"First lines  after processing: {train_docs[0]}\")"
   ]
  },
  {
   "cell_type": "code",
   "execution_count": 6,
   "metadata": {},
   "outputs": [
    {
     "data": {
      "text/plain": [
       "['victorian',\n",
       " 'footbal',\n",
       " 'associ',\n",
       " 'season',\n",
       " 'wa',\n",
       " 'second',\n",
       " 'australian',\n",
       " 'rule',\n",
       " 'competition',\n",
       " 'premiership']"
      ]
     },
     "execution_count": 6,
     "metadata": {},
     "output_type": "execute_result"
    }
   ],
   "source": [
    "vocab = []\n",
    "for ll in train_docs:\n",
    "    tt = ll.split()\n",
    "    for ww in tt:\n",
    "        if ww not in vocab:\n",
    "            vocab.append(ww)\n",
    "vocab[:10]"
   ]
  },
  {
   "cell_type": "code",
   "execution_count": 7,
   "metadata": {},
   "outputs": [
    {
     "data": {
      "text/plain": [
       "<10x1992 sparse matrix of type '<class 'numpy.float64'>'\n",
       "\twith 403 stored elements in Compressed Sparse Row format>"
      ]
     },
     "execution_count": 7,
     "metadata": {},
     "output_type": "execute_result"
    }
   ],
   "source": [
    "Xtrain = lsi.prepare_data(train_docs, vocab)\n",
    "Xtrain[:10]"
   ]
  },
  {
   "cell_type": "code",
   "execution_count": 8,
   "metadata": {},
   "outputs": [
    {
     "name": "stdout",
     "output_type": "stream",
     "text": [
      "Approximated Xtrain shape: (101, 25)\n"
     ]
    }
   ],
   "source": [
    "# 25 topics - this is the main parameter to tune\n",
    "trunc_SVD_model = TruncatedSVD(n_components=25) \n",
    "approx_Xtrain = trunc_SVD_model.fit_transform(Xtrain)\n",
    "print(f\"Approximated Xtrain shape: {str(approx_Xtrain.shape)}\")"
   ]
  },
  {
   "cell_type": "code",
   "execution_count": 13,
   "metadata": {},
   "outputs": [],
   "source": [
    "# These are the topics to search for. Adjusted from the original notebook to fit with the data\n",
    "queries = ['Former American football defensive end in the National Football.', 'Bulgarian long-distance runner']\n",
    "Top_n_documents = 10\n"
   ]
  },
  {
   "cell_type": "code",
   "execution_count": 14,
   "metadata": {},
   "outputs": [
    {
     "name": "stdout",
     "output_type": "stream",
     "text": [
      "\n",
      "Query: Former American football defensive end in the National Football.\n",
      "Top 1 result:\n",
      "Document ID: 26\n",
      "David Alan Lindstrom (born November 16, 1954) is a former American football defensive end in the National Football League, playing eight seasons (1978–1986) for the Kansas City Chiefs. Drafted by the San Diego Chargers in 1977, Lindstrom was inducted into both the Boston University Hall of Fame and Massachusetts High School Hall of Fame in 1993.\n",
      "Top 2 result:\n",
      "Document ID: 30\n",
      "Douglas Alan Berry (born June 3, 1957) is a Canadian former professional ice hockey player, a centreman in the World Hockey Association (WHA) and the National Hockey League (NHL).\n",
      "Top 3 result:\n",
      "Document ID: 62\n",
      "Manuel Jorge Aranda da Silva, a national of Mozambique, is a former minister in the Mozambican Government, and a former senior United Nations official with a background in the World Food Programme.\n",
      "Top 4 result:\n",
      "Document ID: 0\n",
      "The 1878 Victorian Football Association season was the second season of the Australian rules football competition. The premiership was won by the Geelong Football Club, after it defeated Melbourne in a playoff match on 5 October. It was the club's first VFA premiership, and the first in a sequence of three consecutive premierships won from 1878 to 1880. Geelong was unbeaten during the year.\n",
      "Top 5 result:\n",
      "Document ID: 2\n",
      "The 2008 New York Yankees season was the 106th season for the New York Yankees franchise. The Yankees hosted the 2008 All-Star Game at Yankee Stadium on Tuesday July 15, 2008. It was the 83rd and last season at the original Yankee Stadium prior to the team's move to a new ballpark (also called \"Yankee Stadium\") just north of the current stadium. It also marked the first season since 1993 that the Yankees failed to make it to the playoffs (excepting the 1994 season, when a players' strike canceled the postseason, though the Yankees had the best record in the American League that year). Also, it would also be the first under a new team skipper, former team catcher Joe Girardi, who assumed the managerial role in the offseason.\n",
      "Top 6 result:\n",
      "Document ID: 4\n",
      "Alan Shaw Taylor (born June 17, 1955) is an American historian and scholar who is the Thomas Jefferson Memorial Foundation Professor of History at the University of Virginia. A specialist in the early history of the United States, Taylor has written extensively about the colonial history of the United States, the American Revolution and the early American Republic. Taylor has received two Pulitzer Prizes and the Bancroft Prize, and was also a finalist for the National Book Award for non-fiction. In 2020 he was elected to the American Philosophical Society.\n",
      "Top 7 result:\n",
      "Document ID: 60\n",
      "This is a complete List of National Historic Landmarks in Oregon. The United States National Historic Landmark (NHL) program is operated under the auspices of the National Park Service, and recognizes buildings, structures, districts, objects, and similar resources nationwide according to a list of criteria of national significance. The state of Oregon is home to 17 of these landmarks, two of which extend beyond Oregon's borders into other states, as well as one site from which NHL status was withdrawn upon its destruction.\n",
      "Top 8 result:\n",
      "Document ID: 1\n",
      "The 1955–56 Scottish Cup was the 71st staging of Scotland's most prestigious football knockout competition. The Cup was won by Heart of Midlothian who defeated Celtic in the final. The final was a repeat of the 1907 final and was Hearts' first appearance in the final since that date.\n",
      "Top 9 result:\n",
      "Document ID: 91\n",
      "Anthony Maxwell Rundle AO (born 5 March 1939 in Scottsdale, Tasmania) was the Premier of the Australian State of Tasmania from 18 March 1996 to 14 September 1998.  He succeeded Ray Groom and was succeeded himself by Jim Bacon. He is a Liberal who held the seat of Braddon between 1986 and 2002.  A former journalist, he is married to Caroline Watt. He has twin daughters from his first marriage.\n",
      "Top 10 result:\n",
      "Document ID: 6\n",
      "Amy Ashwood Garvey (née Ashwood; 10 January 1897 – 3 May 1969) was a Jamaican Pan-Africanist activist. She was a director of the Black Star Line Steamship Corporation, and along with her former husband Marcus Garvey she founded the Negro World newspaper.\n",
      "\n",
      "Query: Bulgarian long-distance runner\n",
      "Top 1 result:\n",
      "Document ID: 29\n",
      "Dobrinka Shokoladova (Bulgarian: Добринка Шоколадова) (born 1 May 1983) is a Bulgarian long-distance runner who specializes in the 3000 metres steeplechase.\n",
      "Top 2 result:\n",
      "Document ID: 35\n",
      "Franca Fiacconi (born 4 October 1965 in Rome) is a marathon runner from Italy.\n",
      "Top 3 result:\n",
      "Document ID: 33\n",
      "Aadijatmiko Christina Finarsih (born 8 February 1972) is a retired badminton player from Indonesia who specialized in women's doubles.\n",
      "Top 4 result:\n",
      "Document ID: 41\n",
      "Hanayo (花代), born Hanayo Nakajima (中島 花代, Nakajima Hanayo, born 1970), is a Japanese musician, photographer, and artist known for her playful and subversive artwork that is often rooted in Japanese culture. Hanayo currently lives and works in Japan.\n",
      "Top 5 result:\n",
      "Document ID: 17\n",
      "Bruce Beresford-Redman (born April 20, 1971) is the co-creator and executive producer of MTV's Pimp My Ride and a former producer of Survivor. In 2015, he was convicted in Mexico of the murder of his wife, Mónica.\n",
      "Top 6 result:\n",
      "Document ID: 6\n",
      "Amy Ashwood Garvey (née Ashwood; 10 January 1897 – 3 May 1969) was a Jamaican Pan-Africanist activist. She was a director of the Black Star Line Steamship Corporation, and along with her former husband Marcus Garvey she founded the Negro World newspaper.\n",
      "Top 7 result:\n",
      "Document ID: 46\n",
      "Isaac Vanburt McPherson (March 8, 1868 – October 31, 1931) was a U.S. Representative from Missouri.\n",
      "Top 8 result:\n",
      "Document ID: 42\n",
      "Haruhi Nanao (七緒 はるひ, Nanao Haruhi, born February 11, 1973) is a Japanese voice actress who was born in Tokyo. She is employed by 81 Produce. She formerly went by the name Haruhi Terada (寺田 はるひ, Terada Haruhi).\n",
      "Top 9 result:\n",
      "Document ID: 19\n",
      "Bénézet (Benedict, Benezet, Benet, Benoît; c. 1163 – 1184) was a saint of the Catholic Church.\n",
      "Top 10 result:\n",
      "Document ID: 11\n",
      "Baluch People's Liberation Front, also known as Baluch Awami Azadi Mahaiz or BPLF is a militant group formed by Mir Hazar Khan Marri, a prominent Baluchi leader in 1976, led by Sher Mohammad Marri. \n"
     ]
    }
   ],
   "source": [
    "# find the most similar documents to the query\n",
    "for query in queries:\n",
    "    encoded_query = lsi.preprocess_query(query, vocab)\n",
    "    transformed_query = trunc_SVD_model.transform(encoded_query)\n",
    "    similarities = cosine_similarity(approx_Xtrain, transformed_query)\n",
    "    indexes = np.argsort(similarities.flat)[::-1]\n",
    "\n",
    "    print('\\n' + 'Query: ' + query)\n",
    "    for i in range(Top_n_documents):\n",
    "        print(f\"Top {str(i + 1)} result:\")\n",
    "        print(f\"Document ID: {str(indexes[i])}\")\n",
    "        print(train_lines[indexes[i]])\n"
   ]
  },
  {
   "cell_type": "code",
   "execution_count": 12,
   "metadata": {},
   "outputs": [
    {
     "name": "stdout",
     "output_type": "stream",
     "text": [
      "[0, 0, 0, 0, 0, 0, 0, 0, 0, 0, 0, 0, 0, 0, 0, 0, 0, 0, 0, 0, 0, 0, 0, 0, 0, 0, 0, 0, 0, 0, 0, 0, 0, 0, 0, 0, 0, 0, 0, 0, 0, 0, 0, 0, 0, 0, 0, 0, 0, 0, 0, 0, 0, 0, 0, 0, 0, 0, 0, 0, 0, 0, 0, 0, 0, 0, 0, 0, 0, 0, 0, 0, 0, 0, 0, 0, 0, 0, 0, 0, 0, 0, 0, 0, 0, 0, 0, 0, 0, 0, 0, 0, 0, 0, 0, 0, 0, 0, 0, 0, 0]\n"
     ]
    },
    {
     "ename": "IndexError",
     "evalue": "list index out of range",
     "output_type": "error",
     "traceback": [
      "\u001b[1;31m---------------------------------------------------------------------------\u001b[0m",
      "\u001b[1;31mIndexError\u001b[0m                                Traceback (most recent call last)",
      "\u001b[1;32mC:\\Users\\ANTHON~1\\AppData\\Local\\Temp/ipykernel_19252/1691801385.py\u001b[0m in \u001b[0;36m<module>\u001b[1;34m\u001b[0m\n\u001b[0;32m     16\u001b[0m     \u001b[0mre_mark\u001b[0m \u001b[1;33m=\u001b[0m \u001b[1;33m[\u001b[0m\u001b[1;33m]\u001b[0m\u001b[1;33m\u001b[0m\u001b[1;33m\u001b[0m\u001b[0m\n\u001b[0;32m     17\u001b[0m     \u001b[1;32mfor\u001b[0m \u001b[0mi\u001b[0m \u001b[1;32min\u001b[0m \u001b[0mrange\u001b[0m\u001b[1;33m(\u001b[0m\u001b[0mlen\u001b[0m\u001b[1;33m(\u001b[0m\u001b[0mindexes\u001b[0m\u001b[1;33m)\u001b[0m\u001b[1;33m)\u001b[0m\u001b[1;33m:\u001b[0m\u001b[1;33m\u001b[0m\u001b[1;33m\u001b[0m\u001b[0m\n\u001b[1;32m---> 18\u001b[1;33m         \u001b[1;32mif\u001b[0m \u001b[1;33m(\u001b[0m\u001b[0mindexes\u001b[0m\u001b[1;33m[\u001b[0m\u001b[0mi\u001b[0m\u001b[1;33m]\u001b[0m \u001b[1;33m+\u001b[0m \u001b[1;36m1\u001b[0m\u001b[1;33m)\u001b[0m \u001b[1;32min\u001b[0m \u001b[0mre_ID\u001b[0m\u001b[1;33m[\u001b[0m\u001b[0mj\u001b[0m\u001b[1;33m]\u001b[0m\u001b[1;33m:\u001b[0m\u001b[1;33m\u001b[0m\u001b[1;33m\u001b[0m\u001b[0m\n\u001b[0m\u001b[0;32m     19\u001b[0m             \u001b[0mre_mark\u001b[0m\u001b[1;33m.\u001b[0m\u001b[0mappend\u001b[0m\u001b[1;33m(\u001b[0m\u001b[1;36m1\u001b[0m\u001b[1;33m)\u001b[0m\u001b[1;33m\u001b[0m\u001b[1;33m\u001b[0m\u001b[0m\n\u001b[0;32m     20\u001b[0m         \u001b[1;32melse\u001b[0m\u001b[1;33m:\u001b[0m\u001b[1;33m\u001b[0m\u001b[1;33m\u001b[0m\u001b[0m\n",
      "\u001b[1;31mIndexError\u001b[0m: list index out of range"
     ]
    }
   ],
   "source": [
    "re_ID = [[]]\n",
    "AllRecall = []\n",
    "AllPrecision = []\n",
    "AllF1measure = []\n",
    "\n",
    "for j, query in enumerate(queries):\n",
    "    # retrieval\n",
    "    encoded_query = lsi.preprocess_query(query, vocab)\n",
    "    transformed_query = trunc_SVD_model.transform(encoded_query)\n",
    "    similarities = cosine_similarity(approx_Xtrain, transformed_query)\n",
    "\n",
    "    # rank the index\n",
    "    indexes = np.argsort(similarities.flat)[::-1]\n",
    "\n",
    "    # Mark the relevant index\n",
    "    re_mark = []\n",
    "    for i in range(len(indexes)):\n",
    "        if (indexes[i] + 1) in re_ID[j]:\n",
    "            re_mark.append(1)\n",
    "        else:\n",
    "            re_mark.append(0)\n",
    "    print(re_mark)\n",
    "\n",
    "    # compute Recall, Precision, F1-measure\n",
    "    Recall, Precision, F1measure = lsi.compute_R_P_F1(re_mark=re_mark,\n",
    "                                                    QuRe_ID=re_ID[j])\n",
    "\n",
    "    print('\\n' + 'Query%d: ' % (j + 1) + query)\n",
    "    for i in range(10):\n",
    "        print(\n",
    "            f\"Top {str(i + 1)}\" + ' result: ID%d ' % (indexes[i] + 1),\n",
    "            train_lines[indexes[i]],\n",
    "        )\n",
    "    Recall = np.array(Recall)\n",
    "    Precision = np.array(Precision)\n",
    "    F1measure = np.array(F1measure)\n",
    "    print(re_mark)\n",
    "    print(\"Recall@1~10: \", np.around(Recall[:10], 2))\n",
    "    print(\"Precision@1~10: \", np.around(Precision[:10], 2))\n",
    "    print(\"F1measure@1~10: \", np.around(F1measure[:10], 2))\n",
    "\n",
    "    # save\n",
    "    AllRecall.append(Recall)\n",
    "    AllPrecision.append(Precision)\n",
    "    AllF1measure.append(F1measure)\n",
    "\n",
    "    # plot R/P curve\n",
    "    x_axis = [0.0, 0.1, 0.2, 0.3, 0.4, 0.5, 0.6, 0.7, 0.8, 0.9, 1.0]\n",
    "    y_axis = lsi.compute_RP_yaxis(Precision=Precision, Recall=Recall)\n",
    "    plt.plot(x_axis,\n",
    "                y_axis,\n",
    "                '-bo',\n",
    "                color=\"purple\",\n",
    "                label=\"Query%d\" % (j + 1))\n",
    "    plt.xlim(0, 1)\n",
    "    plt.ylim(0, 1)\n",
    "    plt.xlabel('Recall')\n",
    "    plt.ylabel('Precision')\n",
    "    plt.title('Standard Recall/Precision Curves')\n",
    "    plt.legend()\n",
    "    plt.show()\n"
   ]
  },
  {
   "cell_type": "code",
   "execution_count": null,
   "metadata": {},
   "outputs": [],
   "source": [
    "\n",
    "# compute average Recall, average Precision, average F1-measure\n",
    "AllRecall = np.array(AllRecall)\n",
    "AllPrecision = np.array(AllPrecision)\n",
    "AllF1measure = np.array(AllF1measure)\n",
    "AveRecall = (AllRecall[0] + AllRecall[1]) / 2\n",
    "AvePrecision = (AllPrecision[0] + AllPrecision[1]) / 2\n",
    "AveF1measure = (AllF1measure[0] + AllF1measure[1]) / 2\n",
    "\n",
    "print(\"\\nAverage Recall, average Precision, average F1-measure: \")\n",
    "print(\"average Recall@1~10: \", np.around(AveRecall[:10], 2))\n",
    "print(\"average Precision@1~10: \", np.around(AvePrecision[:10], 2))\n",
    "print(\"average F1measure@1~10: \", np.around(AveF1measure[:10], 2))\n",
    "\n",
    "# plot average R/P curve\n",
    "x_axis = [0.0, 0.1, 0.2, 0.3, 0.4, 0.5, 0.6, 0.7, 0.8, 0.9, 1.0]\n",
    "y_axis = lsi.compute_RP_yaxis(Precision=AvePrecision, Recall=AveRecall)\n",
    "plt.plot(x_axis, y_axis, '-bo', color=\"blue\", label=\"Average\")\n",
    "plt.xlim(0, 1)\n",
    "plt.ylim(0, 1)\n",
    "plt.xlabel('average Recall')\n",
    "plt.ylabel('average Precision')\n",
    "plt.title('Standard Average Recall/Precision Curves')\n",
    "plt.legend()\n",
    "plt.show()\n"
   ]
  }
 ],
 "metadata": {
  "kernelspec": {
   "display_name": "lough-ktp",
   "language": "python",
   "name": "python3"
  },
  "language_info": {
   "codemirror_mode": {
    "name": "ipython",
    "version": 3
   },
   "file_extension": ".py",
   "mimetype": "text/x-python",
   "name": "python",
   "nbconvert_exporter": "python",
   "pygments_lexer": "ipython3",
   "version": "3.9.7"
  },
  "orig_nbformat": 4
 },
 "nbformat": 4,
 "nbformat_minor": 2
}
